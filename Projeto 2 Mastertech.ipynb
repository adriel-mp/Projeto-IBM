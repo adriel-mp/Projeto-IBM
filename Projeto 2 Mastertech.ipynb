{
 "cells": [
  {
   "cell_type": "code",
   "execution_count": 8,
   "id": "82da6a45",
   "metadata": {},
   "outputs": [
    {
     "name": "stdout",
     "output_type": "stream",
     "text": [
      "Digite sua renda mensal em reais: 15000\n",
      "Digite o valor do empréstimo desejado em reais: 1000\n",
      "Digite o prazo do empréstimo em meses: 12\n",
      "O valor da sua prestação mensal é de R$ 154.03.\n",
      "O custo total do seu empréstimo é de R$ 3498.45.\n"
     ]
    }
   ],
   "source": [
    "# Definir uma função para validar a renda \n",
    "def validar_renda(renda):\n",
    "  # Verificar se a renda é um número positivo\n",
    "  if renda > 0:\n",
    "    # Verificar se a renda está dentro do limite de 1000 a 20000 reais\n",
    "    if 1000 <= renda <= 20000:\n",
    "      # Retornar True se a renda for válida\n",
    "      return True\n",
    "    else:\n",
    "      # Retornar False se a renda estiver fora do limite\n",
    "      return False\n",
    "  else:\n",
    "    # Retornar False se a renda não for um número positivo\n",
    "    return False\n",
    "\n",
    "# Definir uma função para calcular o empréstimo do usuário\n",
    "def calcular_emprestimo(renda, valor, prazo):\n",
    "  # Definir uma taxa de juros baseada na renda do usuário\n",
    "  # Quanto maior a renda, menor a taxa de juros\n",
    "  if renda >= 15000:\n",
    "    taxa = 0.11\n",
    "  elif renda >= 8000:\n",
    "    taxa = 0.13\n",
    "  elif renda >= 3000:\n",
    "    taxa = 0.15\n",
    "  else:\n",
    "    taxa = 0.17\n",
    "  \n",
    "  # Calcular o valor das prestações mensais usando a fórmula do juro composto\n",
    "  prestacao = valor * taxa / (1 - (1 + taxa) ** -prazo)\n",
    "  \n",
    "  # Calcular o custo total do empréstimo \n",
    "  custo = prestacao * ((1 + taxa)** prazo - 1) / taxa\n",
    "  \n",
    "  # Retornar o valor da prestação e o custo do empréstimo\n",
    "  return prestacao, custo\n",
    "\n",
    "# Solicitar ao usuário que insira sua renda mensal\n",
    "renda = float(input(\"Digite sua renda mensal em reais: \"))\n",
    "\n",
    "# Validar a renda do usuário usando a função definida\n",
    "valida = validar_renda(renda)\n",
    "\n",
    "# Se a renda for válida, prosseguir com o cálculo do empréstimo\n",
    "if valida:\n",
    "  # Solicitar ao usuário que insira o valor do empréstimo desejado e o prazo em meses\n",
    "  valor = float(input(\"Digite o valor do empréstimo desejado em reais: \"))\n",
    "  prazo = int(input(\"Digite o prazo do empréstimo em meses: \"))\n",
    "  \n",
    "  # Calcular o empréstimo do usuário usando a função definida\n",
    "  prestacao, custo = calcular_emprestimo(renda, valor, prazo)\n",
    "  \n",
    "  # Apresentar os resultados do cálculo ao usuário\n",
    "  print(f\"O valor da sua prestação mensal é de R$ {prestacao:.2f}.\")\n",
    "  print(f\"O custo total do seu empréstimo é de R$ {custo:.2f}.\")\n",
    "else:\n",
    "  # Se a renda não for válida, informar ao usuário e encerrar o programa\n",
    "  print(\"Sua renda não é válida. O programa será encerrado.\")"
   ]
  }
 ],
 "metadata": {
  "kernelspec": {
   "display_name": "Python 3 (ipykernel)",
   "language": "python",
   "name": "python3"
  },
  "language_info": {
   "codemirror_mode": {
    "name": "ipython",
    "version": 3
   },
   "file_extension": ".py",
   "mimetype": "text/x-python",
   "name": "python",
   "nbconvert_exporter": "python",
   "pygments_lexer": "ipython3",
   "version": "3.11.4"
  }
 },
 "nbformat": 4,
 "nbformat_minor": 5
}
